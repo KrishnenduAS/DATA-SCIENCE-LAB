{
  "nbformat": 4,
  "nbformat_minor": 0,
  "metadata": {
    "colab": {
      "name": "Cycle1 Excercise1.ipynb",
      "provenance": [],
      "collapsed_sections": []
    },
    "kernelspec": {
      "name": "python3",
      "display_name": "Python 3"
    },
    "language_info": {
      "name": "python"
    }
  },
  "cells": [
    {
      "cell_type": "code",
      "execution_count": null,
      "metadata": {
        "colab": {
          "base_uri": "https://localhost:8080/"
        },
        "id": "3XDa4_IDSXnN",
        "outputId": "efea0b86-412b-41d9-e866-272ea5ac7284"
      },
      "outputs": [
        {
          "output_type": "stream",
          "name": "stdout",
          "text": [
            "Original numbers:\n",
            "[3 5]\n",
            "[2 5]\n",
            "Comparison - greater\n",
            "[ True False]\n",
            "Comparison - greater_equal\n",
            "[ True  True]\n",
            "Comparison - less\n",
            "[False False]\n",
            "Comparison - less_equal\n",
            "[False  True]\n"
          ]
        }
      ],
      "source": [
        "#1.Write  a  NumPy  program  to  create  an  element-wise  comparison  (greater,  greater_equal,  less and less_equal) of two given arrays.\n",
        "import numpy as np\n",
        "x = np.array([3, 5])\n",
        "y = np.array([2, 5])\n",
        "print(\"Original numbers:\")\n",
        "print(x)\n",
        "print(y)\n",
        "print(\"Comparison - greater\")\n",
        "print(np.greater(x, y))\n",
        "print(\"Comparison - greater_equal\")\n",
        "print(np.greater_equal(x, y))\n",
        "print(\"Comparison - less\")\n",
        "print(np.less(x, y))\n",
        "print(\"Comparison - less_equal\")\n",
        "print(np.less_equal(x, y))\n",
        "\n"
      ]
    },
    {
      "cell_type": "code",
      "source": [
        "#2.Write a NumPyprogram to create an array of all the even integers from 30 to 70\n",
        "import numpy as np\n",
        "array=np.arange(30,71,2)\n",
        "print(\"Array of all the even integers from 30 to 70\")\n",
        "print(array) "
      ],
      "metadata": {
        "colab": {
          "base_uri": "https://localhost:8080/"
        },
        "id": "iJZ1-7yzSk-G",
        "outputId": "d001a9ca-f852-4764-abd6-a887eea58c32"
      },
      "execution_count": null,
      "outputs": [
        {
          "output_type": "stream",
          "name": "stdout",
          "text": [
            "Array of all the even integers from 30 to 70\n",
            "[30 32 34 36 38 40 42 44 46 48 50 52 54 56 58 60 62 64 66 68 70]\n"
          ]
        }
      ]
    },
    {
      "cell_type": "code",
      "source": [
        "#3.Write a NumPy program to create a 3x3 identity matrix.\n",
        "import numpy as np\n",
        "array_2D=np.identity(3)\n",
        "print('3x3 matrix:')\n",
        "print(array_2D)"
      ],
      "metadata": {
        "colab": {
          "base_uri": "https://localhost:8080/"
        },
        "id": "0a0pwm1ZSz29",
        "outputId": "7e9e777e-19c7-4169-e2b9-26f2592a2b57"
      },
      "execution_count": null,
      "outputs": [
        {
          "output_type": "stream",
          "name": "stdout",
          "text": [
            "3x3 matrix:\n",
            "[[1. 0. 0.]\n",
            " [0. 1. 0.]\n",
            " [0. 0. 1.]]\n"
          ]
        }
      ]
    },
    {
      "cell_type": "code",
      "source": [
        "#4.Write  a  NumPy  program  to  create  a  vector  with  values from  0  to  20 and  change  the  sign  of the numbers in the range from 9 to 15\n",
        "import numpy as np\n",
        "x = np.arange(21)\n",
        "print(\"Original vector:\")\n",
        "print(x)\n",
        "print(\"After changing the sign of the numbers in the range from 9 to 15:\")\n",
        "x[(x >= 9) & (x <= 15)] *= -1\n",
        "print(x)"
      ],
      "metadata": {
        "colab": {
          "base_uri": "https://localhost:8080/"
        },
        "id": "u2IqWfuyTVFJ",
        "outputId": "b5e0a1fb-98c0-4b48-922b-3bb59edb2497"
      },
      "execution_count": null,
      "outputs": [
        {
          "output_type": "stream",
          "name": "stdout",
          "text": [
            "Original vector:\n",
            "[ 0  1  2  3  4  5  6  7  8  9 10 11 12 13 14 15 16 17 18 19 20]\n",
            "After changing the sign of the numbers in the range from 9 to 15:\n",
            "[  0   1   2   3   4   5   6   7   8  -9 -10 -11 -12 -13 -14 -15  16  17\n",
            "  18  19  20]\n"
          ]
        }
      ]
    },
    {
      "cell_type": "code",
      "source": [
        "#5.Write  a  NumPy  program  to  create  a  5x5  zero  matrix  with  elements  on  the  main  diagonal equal to 1, 2, 3, 4, 5.\n",
        "import numpy as np\n",
        "x = np.diag([1, 2, 3, 4, 5])\n",
        "print(x)\n"
      ],
      "metadata": {
        "colab": {
          "base_uri": "https://localhost:8080/"
        },
        "id": "vzKfjRTzT1dh",
        "outputId": "c2a91a09-e63e-4083-b361-e6304fe6341b"
      },
      "execution_count": null,
      "outputs": [
        {
          "output_type": "stream",
          "name": "stdout",
          "text": [
            "[[1 0 0 0 0]\n",
            " [0 2 0 0 0]\n",
            " [0 0 3 0 0]\n",
            " [0 0 0 4 0]\n",
            " [0 0 0 0 5]]\n"
          ]
        }
      ]
    },
    {
      "cell_type": "code",
      "source": [
        "#6.Write  a  NumPy  program  to  compute  sum  of  all  elements,  sum  of  each  column  and  sum  of each row of a given array.\n",
        "import numpy as np\n",
        "x = np.array([[0,1],[2,3]])\n",
        "print(\"Original array:\")\n",
        "print(x)\n",
        "print(\"Sum of all elements:\")\n",
        "print(np.sum(x))\n",
        "print(\"Sum of each column:\")\n",
        "print(np.sum(x, axis=0))\n",
        "print(\"Sum of each row:\")\n",
        "print(np.sum(x, axis=1))"
      ],
      "metadata": {
        "colab": {
          "base_uri": "https://localhost:8080/"
        },
        "id": "1_mbl2bgUriZ",
        "outputId": "3d6b4752-827d-44b5-a3c7-d379e7b6cc4e"
      },
      "execution_count": null,
      "outputs": [
        {
          "output_type": "stream",
          "name": "stdout",
          "text": [
            "Original array:\n",
            "[[0 1]\n",
            " [2 3]]\n",
            "Sum of all elements:\n",
            "6\n",
            "Sum of each column:\n",
            "[2 4]\n",
            "Sum of each row:\n",
            "[1 5]\n"
          ]
        }
      ]
    },
    {
      "cell_type": "code",
      "source": [
        "#7.Write a NumPy program to save a given array to a text file and load it.\n",
        "import numpy as np\n",
        "import os\n",
        "x = np.arange(12).reshape(4, 3)\n",
        "print(\"Original array:\")\n",
        "print(x)\n",
        "header = 'col1 col2 col3'\n",
        "np.savetxt('temp.txt', x, fmt=\"%d\", header=header) \n",
        "print(\"After loading, content of the text file:\")\n",
        "result = np.loadtxt('temp.txt')\n",
        "print(result)"
      ],
      "metadata": {
        "colab": {
          "base_uri": "https://localhost:8080/"
        },
        "id": "deOCILC2Ux93",
        "outputId": "47ff2dfc-6acd-4746-bf8c-ef42b6200ab3"
      },
      "execution_count": null,
      "outputs": [
        {
          "output_type": "stream",
          "name": "stdout",
          "text": [
            "Original array:\n",
            "[[ 0  1  2]\n",
            " [ 3  4  5]\n",
            " [ 6  7  8]\n",
            " [ 9 10 11]]\n",
            "After loading, content of the text file:\n",
            "[[ 0.  1.  2.]\n",
            " [ 3.  4.  5.]\n",
            " [ 6.  7.  8.]\n",
            " [ 9. 10. 11.]]\n"
          ]
        }
      ]
    },
    {
      "cell_type": "code",
      "source": [
        "#8.Write a NumPy program to check whether two arrays are equal (element wise) or not\n",
        "import numpy as np\n",
        "nums1 = np.array([0.5, 1.5, 0.2])\n",
        "nums2 = np.array([0.4999999999, 1.500000000, 0.2])\n",
        "np.set_printoptions(precision=15)\n",
        "print(\"Original arrays:\")\n",
        "print(nums1)\n",
        "print(nums2)\n",
        "print(\"\\nTest said two arrays are equal (element wise) or not:?\")\n",
        "print(nums1 == nums2)\n",
        "nums1 = np.array([0.5, 1.5, 0.23])\n",
        "nums2 = np.array([0.4999999999, 1.5000000001, 0.23])\n",
        "print(\"\\nOriginal arrays:\")\n",
        "np.set_printoptions(precision=15)\n",
        "print(nums1)\n",
        "print(nums2)\n",
        "print(\"\\nTest said two arrays are equal (element wise) or not:?\")\n",
        "print(np.equal(nums1, nums2))\n"
      ],
      "metadata": {
        "id": "VKBR-tSpbbhc",
        "colab": {
          "base_uri": "https://localhost:8080/"
        },
        "outputId": "dd8ae25d-c609-4315-ab41-8134cd7a1ec8"
      },
      "execution_count": null,
      "outputs": [
        {
          "output_type": "stream",
          "name": "stdout",
          "text": [
            "Original arrays:\n",
            "[0.5 1.5 0.2]\n",
            "[0.4999999999 1.5          0.2         ]\n",
            "\n",
            "Test said two arrays are equal (element wise) or not:?\n",
            "[False  True  True]\n",
            "\n",
            "Original arrays:\n",
            "[0.5  1.5  0.23]\n",
            "[0.4999999999 1.5000000001 0.23        ]\n",
            "\n",
            "Test said two arrays are equal (element wise) or not:?\n",
            "[False False  True]\n"
          ]
        }
      ]
    },
    {
      "cell_type": "code",
      "source": [
        "#9.Write  a  NumPy  program  to  create  a  4x4  array  with  random  values,  now  create  a  new  array from the said array swapping first and last rows\n",
        "import numpy as np \n",
        "nums = np.arange(16, dtype='int').reshape(-1, 4)\n",
        "print(\"Original array:\")\n",
        "print(nums)\n",
        "print(\"\\nNew array after swapping first and last rows of the said array:\")\n",
        "new_nums = nums[::-1]\n",
        "print(new_nums)"
      ],
      "metadata": {
        "id": "pnfi0aDbjO6s",
        "colab": {
          "base_uri": "https://localhost:8080/"
        },
        "outputId": "94f584b2-3b6b-44a5-eb52-6012cb9b0097"
      },
      "execution_count": null,
      "outputs": [
        {
          "output_type": "stream",
          "name": "stdout",
          "text": [
            "Original array:\n",
            "[[ 0  1  2  3]\n",
            " [ 4  5  6  7]\n",
            " [ 8  9 10 11]\n",
            " [12 13 14 15]]\n",
            "\n",
            "New array after swapping first and last rows of the said array:\n",
            "[[12 13 14 15]\n",
            " [ 8  9 10 11]\n",
            " [ 4  5  6  7]\n",
            " [ 0  1  2  3]]\n"
          ]
        }
      ]
    },
    {
      "cell_type": "code",
      "source": [
        "#10.Write a NumPy program to multiply two given arrays of same size element-by-element\n",
        "import numpy as np \n",
        "nums1 = np.array([[2, 5, 2],\n",
        "              [1, 5, 5]])\n",
        "nums2 = np.array([[5, 3, 4],\n",
        "              [3, 2, 5]])\n",
        "print(\"Array1:\") \n",
        "print(nums1)\n",
        "print(\"Array2:\") \n",
        "print(nums2)\n",
        "print(\"\\nMultiply said arrays of same size element-by-element:\")\n",
        "print(np.multiply(nums1, nums2))"
      ],
      "metadata": {
        "id": "Y2z5oA3FkNCa",
        "outputId": "cbc248a1-0ce5-479c-fbd6-ec88e2a01233",
        "colab": {
          "base_uri": "https://localhost:8080/"
        }
      },
      "execution_count": null,
      "outputs": [
        {
          "output_type": "stream",
          "name": "stdout",
          "text": [
            "Array1:\n",
            "[[2 5 2]\n",
            " [1 5 5]]\n",
            "Array2:\n",
            "[[5 3 4]\n",
            " [3 2 5]]\n",
            "\n",
            "Multiply said arrays of same size element-by-element:\n",
            "[[10 15  8]\n",
            " [ 3 10 25]]\n"
          ]
        }
      ]
    }
  ]
}