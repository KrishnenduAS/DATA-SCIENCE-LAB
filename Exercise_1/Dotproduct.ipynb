
{
  "nbformat": 4,
  "nbformat_minor": 0,
  "metadata": {
    "colab": {
      "name": "Untitled1.ipynb",
      "provenance": []
    },
    "kernelspec": {
      "name": "python3",
      "display_name": "Python 3"
    },
    "language_info": {
      "name": "python"
    }
  },
  "cells": [
    {
      "cell_type": "code",
      "execution_count": 1,
      "metadata": {
        "colab": {
          "base_uri": "https://localhost:8080/"
        },
        "id": "B1n4_ImRurpp",
        "outputId": "4ce459db-193b-489a-a847-11573d41229f"
      },
      "outputs": [
        {
          "output_type": "stream",
          "name": "stdout",
          "text": [
            "Enter the number of rows of first matrix:2\n",
            "Enter the number of columns of first matrix:2\n",
            "Enter the entries  of first matrix in a single line (separated by space): \n",
            "1 2 3 4\n",
            "[[1 2]\n",
            " [3 4]]\n",
            "Enter the number of rows of second matrix:2\n",
            "Enter the number of columns of second matrix:2\n",
            "Enter the entries  of second matrix in a single line (separated by space): \n",
            "1 2 3 4\n",
            "[[1 2]\n",
            " [3 4]]\n",
            "Dot Product of 2 matrices\n",
            "[[ 7 10]\n",
            " [15 22]]\n"
          ]
        }
      ],
      "source": [
        "import numpy as np\n",
        "  \n",
        "R = int(input(\"Enter the number of rows of first matrix:\"))\n",
        "C = int(input(\"Enter the number of columns of first matrix:\"))\n",
        "  \n",
        "  \n",
        "print(\"Enter the entries  of first matrix in a single line (separated by space): \")\n",
        "  \n",
        "# User input of entries in a \n",
        "# single line separated by space\n",
        "entries = list(map(int, input().split()))\n",
        "  \n",
        "# For printing the matrix\n",
        "matrix1= np.array(entries).reshape(R, C)\n",
        "print(matrix1)\n",
        "R2 = int(input(\"Enter the number of rows of second matrix:\"))\n",
        "C2 = int(input(\"Enter the number of columns of second matrix:\"))\n",
        "  \n",
        "  \n",
        "print(\"Enter the entries  of second matrix in a single line (separated by space): \")\n",
        "  \n",
        "# User input of entries in a \n",
        "# single line separated by space\n",
        "entries = list(map(int, input().split()))\n",
        "  \n",
        "# For printing the matrix\n",
        "matrix2 = np.array(entries).reshape(R2, C2)\n",
        "print(matrix2)\n",
        "if(C!=R2):\n",
        "    print(\"Matrix dot operation can't done :\")\n",
        "else:\n",
        "    c=np.dot(matrix1,matrix2)  \n",
        "    print(\"Dot Product of 2 matrices\")\n",
        "    print(c)\n"
      ]
    }
  ]
}
