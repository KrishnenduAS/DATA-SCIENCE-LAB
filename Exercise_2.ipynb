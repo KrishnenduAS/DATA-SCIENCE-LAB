{
 "cells": [
  {
   "cell_type": "code",
   "execution_count": 4,
   "id": "40c403a5",
   "metadata": {},
   "outputs": [
    {
     "name": "stdout",
     "output_type": "stream",
     "text": [
      "Enter rows and columns of matrix12 2\n",
      "Enter the entries in a single line: \n",
      "1 2 3 4\n",
      "Enter rows and columns of matrix22 2\n",
      "Enter the entries in a single line: \n",
      "7 6 5 4\n",
      "Matrix A:\n",
      "[[1 2]\n",
      " [3 4]]\n",
      "Matrix B:\n",
      "[[7 6]\n",
      " [5 4]]\n",
      "Dot product of A and B:\n",
      "[[17 14]\n",
      " [41 34]]\n",
      "Transpose of A:\n",
      "[[1 3]\n",
      " [2 4]]\n",
      "Transpose of B:\n",
      "[[7 5]\n",
      " [6 4]]\n",
      "Trace of A:\n",
      "5\n",
      "Trace of B:\n",
      "11\n",
      "Rank of the matrix A 2\n",
      "Rank of the matrix B 2\n",
      "Determinant of the matrix A  -2\n",
      "Determinant of the matrix B  -1\n",
      "Inverse of the matrix A \n",
      "[[-2.   1. ]\n",
      " [ 1.5 -0.5]]\n",
      "Inverse of the matrix B \n",
      "[[-2.   3. ]\n",
      " [ 2.5 -3.5]]\n",
      "Eigen values of A  [-0.37228132  5.37228132]\n",
      "Eigen vectors of A  [[-0.82456484 -0.41597356]\n",
      " [ 0.56576746 -0.90937671]]\n",
      "Eigen values of B  [11.17890835 -0.17890835]\n",
      "Eigen vectors of B  [[ 0.82058481 -0.64129241]\n",
      " [ 0.57152478  0.76729658]]\n"
     ]
    }
   ],
   "source": [
    "import numpy as np\n",
    "m,n=[int(i) for i in input(\"Enter rows and columns of matrix1\").split()]\n",
    "print(\"Enter the entries in a single line: \")\n",
    "entries=[int(i) for i in input().split()]\n",
    "A= np.array(entries).reshape(m, n)\n",
    "m,n=[int(i) for i in input(\"Enter rows and columns of matrix2\").split()]\n",
    "print(\"Enter the entries in a single line: \")\n",
    "entries=[int(i) for i in input().split()]\n",
    "B= np.array(entries).reshape(m, n)\n",
    "print(\"Matrix A:\")\n",
    "print(A)\n",
    "print(\"Matrix B:\")\n",
    "print(B)\n",
    "print(\"Dot product of A and B:\")\n",
    "print(np.dot(A,B))\n",
    "print(\"Transpose of A:\")\n",
    "print(np.transpose(A))\n",
    "print(\"Transpose of B:\")\n",
    "print(np.transpose(B))\n",
    "print(\"Trace of A:\")\n",
    "print(np.trace(A))\n",
    "print(\"Trace of B:\")\n",
    "print(np.trace(B))\n",
    "print(\"Rank of the matrix A\",np.linalg.matrix_rank(A))\n",
    "print(\"Rank of the matrix B\",np.linalg.matrix_rank(B))\n",
    "detA = np.linalg.det(A)\n",
    "detB = np.linalg.det(B)\n",
    "print(\"Determinant of the matrix A \",int(detA))\n",
    "print(\"Determinant of the matrix B \",int(detB))\n",
    "print(\"Inverse of the matrix A \")\n",
    "print(np.linalg.inv(A))\n",
    "print(\"Inverse of the matrix B \")\n",
    "print(np.linalg.inv(B))\n",
    "eigenValueA,eigenVectorA=np.linalg.eig(A)\n",
    "eigenValueB,eigenVectorB=np.linalg.eig(B)\n",
    "print(\"Eigen values of A \",eigenValueA)\n",
    "print(\"Eigen vectors of A \",eigenVectorA)\n",
    "print(\"Eigen values of B \",eigenValueB)\n",
    "print(\"Eigen vectors of B \",eigenVectorB)\n"
   ]
  },
  {
   "cell_type": "code",
   "execution_count": null,
   "id": "1a2eec3f",
   "metadata": {},
   "outputs": [],
   "source": []
  }
 ],
 "metadata": {
  "kernelspec": {
   "display_name": "Python 3 (ipykernel)",
   "language": "python",
   "name": "python3"
  },
  "language_info": {
   "codemirror_mode": {
    "name": "ipython",
    "version": 3
   },
   "file_extension": ".py",
   "mimetype": "text/x-python",
   "name": "python",
   "nbconvert_exporter": "python",
   "pygments_lexer": "ipython3",
   "version": "3.9.7"
  }
 },
 "nbformat": 4,
 "nbformat_minor": 5
}
